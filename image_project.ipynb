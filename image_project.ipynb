{
 "cells": [
  {
   "cell_type": "markdown",
   "metadata": {},
   "source": [
    "# DATA20001 Deep Learning - Group Project\n",
    "## Image project\n",
    "\n",
    "**Due Thursday, May 20, before 23:59.**\n",
    "\n",
    "The task is to learn to assign the correct labels to a set of images.  The images are originally from a photo-sharing site and released under Creative Commons-licenses allowing sharing.  The training set contains 20 000 images. We have resized them and cropped them to 128x128 to make the task a bit more manageable.\n",
    "\n",
    "We're only giving you the code for downloading the data. The rest you'll have to do yourselves.\n",
    "\n",
    "Some comments and hints particular to the image project:\n",
    "\n",
    "- One image may belong to many classes in this problem, i.e., it's a multi-label classification problem. In fact there are images that don't belong to any of our classes, and you should also be able to handle these correctly. Pay careful attention to how you design the outputs of the network (e.g., what activation to use) and what loss function should be used.\n",
    "\n",
    "- As the dataset is pretty imbalanced, don't focus too strictly on the outputs being probabilistic. (Meaning that the right threshold for selecting the label might not be 0.5.)\n",
    "\n",
    "- Image files can be loaded as numpy matrices for example using `imread` from `matplotlib.pyplot`. Most images are color, but a few grayscale. You need to handle the grayscale ones somehow as they would have a different number of color channels (depth) than the color ones.\n",
    "\n",
    "- In the exercises we used e.g., `torchvision.datasets.MNIST` to handle the loading of the data in suitable batches. Here, you need to handle the dataloading yourself.  The easiest way is probably to create a custom `Dataset`. [See for example here for a tutorial](https://github.com/utkuozbulak/pytorch-custom-dataset-examples)."
   ]
  },
  {
   "cell_type": "markdown",
   "metadata": {},
   "source": [
    "## Get the data"
   ]
  },
  {
   "cell_type": "code",
   "execution_count": 1,
   "metadata": {},
   "outputs": [],
   "source": [
    "import sys\n",
    "import os\n",
    "from os.path import join\n",
    "from os.path import abspath\n",
    "from os.path import split\n",
    "\n",
    "import torch\n",
    "import torchvision\n",
    "from torchvision.datasets.utils import download_url\n",
    "import zipfile"
   ]
  },
  {
   "cell_type": "code",
   "execution_count": 2,
   "metadata": {},
   "outputs": [
    {
     "ename": "KeyboardInterrupt",
     "evalue": "",
     "output_type": "error",
     "traceback": [
      "\u001b[1;31m---------------------------------------------------------------------------\u001b[0m",
      "\u001b[1;31mKeyboardInterrupt\u001b[0m                         Traceback (most recent call last)",
      "\u001b[1;32m<ipython-input-2-4677ab475ddd>\u001b[0m in \u001b[0;36m<module>\u001b[1;34m\u001b[0m\n\u001b[0;32m     12\u001b[0m \u001b[1;33m\u001b[0m\u001b[0m\n\u001b[0;32m     13\u001b[0m \u001b[1;32mwith\u001b[0m \u001b[0mzipfile\u001b[0m\u001b[1;33m.\u001b[0m\u001b[0mZipFile\u001b[0m\u001b[1;33m(\u001b[0m\u001b[0mDATA_ZIP_DIR\u001b[0m\u001b[1;33m)\u001b[0m \u001b[1;32mas\u001b[0m \u001b[0mzip_f\u001b[0m\u001b[1;33m:\u001b[0m\u001b[1;33m\u001b[0m\u001b[1;33m\u001b[0m\u001b[0m\n\u001b[1;32m---> 14\u001b[1;33m     \u001b[0mzip_f\u001b[0m\u001b[1;33m.\u001b[0m\u001b[0mextractall\u001b[0m\u001b[1;33m(\u001b[0m\u001b[0mtrain_path\u001b[0m\u001b[1;33m)\u001b[0m\u001b[1;33m\u001b[0m\u001b[1;33m\u001b[0m\u001b[0m\n\u001b[0m",
      "\u001b[1;32m~\\anaconda3\\lib\\zipfile.py\u001b[0m in \u001b[0;36mextractall\u001b[1;34m(self, path, members, pwd)\u001b[0m\n\u001b[0;32m   1634\u001b[0m \u001b[1;33m\u001b[0m\u001b[0m\n\u001b[0;32m   1635\u001b[0m         \u001b[1;32mfor\u001b[0m \u001b[0mzipinfo\u001b[0m \u001b[1;32min\u001b[0m \u001b[0mmembers\u001b[0m\u001b[1;33m:\u001b[0m\u001b[1;33m\u001b[0m\u001b[1;33m\u001b[0m\u001b[0m\n\u001b[1;32m-> 1636\u001b[1;33m             \u001b[0mself\u001b[0m\u001b[1;33m.\u001b[0m\u001b[0m_extract_member\u001b[0m\u001b[1;33m(\u001b[0m\u001b[0mzipinfo\u001b[0m\u001b[1;33m,\u001b[0m \u001b[0mpath\u001b[0m\u001b[1;33m,\u001b[0m \u001b[0mpwd\u001b[0m\u001b[1;33m)\u001b[0m\u001b[1;33m\u001b[0m\u001b[1;33m\u001b[0m\u001b[0m\n\u001b[0m\u001b[0;32m   1637\u001b[0m \u001b[1;33m\u001b[0m\u001b[0m\n\u001b[0;32m   1638\u001b[0m     \u001b[1;33m@\u001b[0m\u001b[0mclassmethod\u001b[0m\u001b[1;33m\u001b[0m\u001b[1;33m\u001b[0m\u001b[0m\n",
      "\u001b[1;32m~\\anaconda3\\lib\\zipfile.py\u001b[0m in \u001b[0;36m_extract_member\u001b[1;34m(self, member, targetpath, pwd)\u001b[0m\n\u001b[0;32m   1689\u001b[0m         \u001b[1;32mwith\u001b[0m \u001b[0mself\u001b[0m\u001b[1;33m.\u001b[0m\u001b[0mopen\u001b[0m\u001b[1;33m(\u001b[0m\u001b[0mmember\u001b[0m\u001b[1;33m,\u001b[0m \u001b[0mpwd\u001b[0m\u001b[1;33m=\u001b[0m\u001b[0mpwd\u001b[0m\u001b[1;33m)\u001b[0m \u001b[1;32mas\u001b[0m \u001b[0msource\u001b[0m\u001b[1;33m,\u001b[0m\u001b[0;31m \u001b[0m\u001b[0;31m\\\u001b[0m\u001b[1;33m\u001b[0m\u001b[1;33m\u001b[0m\u001b[0m\n\u001b[0;32m   1690\u001b[0m              \u001b[0mopen\u001b[0m\u001b[1;33m(\u001b[0m\u001b[0mtargetpath\u001b[0m\u001b[1;33m,\u001b[0m \u001b[1;34m\"wb\"\u001b[0m\u001b[1;33m)\u001b[0m \u001b[1;32mas\u001b[0m \u001b[0mtarget\u001b[0m\u001b[1;33m:\u001b[0m\u001b[1;33m\u001b[0m\u001b[1;33m\u001b[0m\u001b[0m\n\u001b[1;32m-> 1691\u001b[1;33m             \u001b[0mshutil\u001b[0m\u001b[1;33m.\u001b[0m\u001b[0mcopyfileobj\u001b[0m\u001b[1;33m(\u001b[0m\u001b[0msource\u001b[0m\u001b[1;33m,\u001b[0m \u001b[0mtarget\u001b[0m\u001b[1;33m)\u001b[0m\u001b[1;33m\u001b[0m\u001b[1;33m\u001b[0m\u001b[0m\n\u001b[0m\u001b[0;32m   1692\u001b[0m \u001b[1;33m\u001b[0m\u001b[0m\n\u001b[0;32m   1693\u001b[0m         \u001b[1;32mreturn\u001b[0m \u001b[0mtargetpath\u001b[0m\u001b[1;33m\u001b[0m\u001b[1;33m\u001b[0m\u001b[0m\n",
      "\u001b[1;31mKeyboardInterrupt\u001b[0m: "
     ]
    }
   ],
   "source": [
    "root_dir = os.getcwd()\n",
    "if root_dir not in sys.path:\n",
    "    sys.path.append(root_dir)\n",
    "    \n",
    "train_path = 'train'\n",
    "\n",
    "data_folder_name = 'image-training-corpus+annotations'\n",
    "DATA_FOLDER_DIR = os.path.abspath(os.path.join(root_dir, data_folder_name))\n",
    "\n",
    "data_zip_name = 'dl2018-image-proj.zip'\n",
    "DATA_ZIP_DIR = os.path.abspath(os.path.join(DATA_FOLDER_DIR, data_zip_name))\n",
    "\n",
    "with zipfile.ZipFile(DATA_ZIP_DIR) as zip_f:\n",
    "    zip_f.extractall(train_path)"
   ]
  },
  {
   "cell_type": "markdown",
   "metadata": {},
   "source": [
    "The above command downloaded and extracted the data files into the `train` subdirectory.\n",
    "\n",
    "The images can be found in `train/images`, and are named as `im1.jpg`, `im2.jpg` and so on until `im20000.jpg`.\n",
    "\n",
    "The class labels, or annotations, can be found in `train/annotations` as `CLASSNAME.txt`, where CLASSNAME is one of the fourteen classes: *baby, bird, car, clouds, dog, female, flower, male, night, people, portrait, river, sea,* and *tree*.\n",
    "\n",
    "Each annotation file is a simple text file that lists the images that depict that class, one per line. The images are listed with their number, not the full filename. For example `5969` refers to the image `im5969.jpg`."
   ]
  },
  {
   "cell_type": "markdown",
   "metadata": {},
   "source": [
    "## Your stuff goes here ..."
   ]
  },
  {
   "cell_type": "markdown",
   "metadata": {},
   "source": [
    "First we want to split the data into training and validation sets. A very important thing to consider is to have the same distribution of classes in both datasets, especially in our case where the data is imbalanced. In multi-class classification we could do this by stratified sampling, but in our case the data is also multi-labeled, so the strata would not be exclusive. Luckily there is a method of stratified sampling for multi-label classification called *iterative stratification*, for which an implementation is provided in `skmultilearn`. A commonly used 80/20 split is used to split the data into training and validation, respectively. NB! The code below assumes that the training images are in the current directory in `train_original/images` and the labels in `train_original/annotations/<classname>.txt`."
   ]
  },
  {
   "cell_type": "code",
   "execution_count": 2,
   "metadata": {},
   "outputs": [],
   "source": [
    "from skmultilearn.model_selection import iterative_train_test_split\n",
    "import numpy as np\n",
    "\n",
    "def trainValSplit(image_folder, test_size):\n",
    "    \n",
    "    X = sorted([int(filename[2:-4]) for filename in os.listdir(image_folder)]) # read the image numbers as int, sorted\n",
    "    class_names = [\"baby\", \"bird\", \"car\", \"clouds\", \"dog\", \"female\", \"flower\", \"male\", \"night\", \"people\", \"portrait\", \"river\", \"sea\", \"tree\"]\n",
    "    # the line below reach each annotation file and makes a set containing all image numbers corresponding to that class\n",
    "    class_dict = {classname:set(np.loadtxt(f\"train_original/annotations/{classname}.txt\", dtype=int)) for classname in class_names}\n",
    "    y = []\n",
    "    for img in range(1,20001):\n",
    "        labels = np.zeros(len(class_names)) # make a one-hot vector for the labels\n",
    "        for i, classname in enumerate(class_names): # iterate through classnames\n",
    "            labelsInClass = class_dict[classname] \n",
    "            if img in labelsInClass: \n",
    "                labels[i] = 1 # if the image is in the class, set label to 1\n",
    "        y.append(labels)\n",
    "    y = np.array(y)\n",
    "    X = np.array(X)\n",
    "    # iterative_train_test_split does not accept only one number as input, so we \n",
    "    # add a column of zeros to X as placeholder and discard it later when the split is done\n",
    "    X = np.c_[X, np.zeros(20000)] \n",
    "    # split the data: X are image numbers and y are labels corresponding to that image number\n",
    "    X_train, y_train, X_val, y_val = iterative_train_test_split(X, y, test_size = test_size)\n",
    "\n",
    "    X_train = X_train[:,0].astype(int) # discard the additional column\n",
    "    X_val = X_val[:,0].astype(int) \n",
    "    # the values below should be very close together\n",
    "    print(\"Training data relative class frequencies: \", np.sum(y_train, axis=0)/y_train.shape[0])\n",
    "    print(\"Validation data relative class frequencies: \", np.sum(y_val, axis=0)/y_val.shape[0])\n",
    "    \n",
    "    X = {\"train\":X_train, \"val\":X_val}\n",
    "    y = {\"train\":y_train, \"val\":y_val}\n",
    "    \n",
    "    return X, y"
   ]
  },
  {
   "cell_type": "code",
   "execution_count": 3,
   "metadata": {},
   "outputs": [
    {
     "name": "stdout",
     "output_type": "stream",
     "text": [
      "Training data relative class frequencies:  [0.0046875 0.018     0.0159375 0.05475   0.022375  0.161375  0.0380625\n",
      " 0.1489375 0.029875  0.320125  0.1560625 0.006     0.008625  0.02625  ]\n",
      "Validation data relative class frequencies:  [0.005   0.018   0.016   0.05475 0.0225  0.16125 0.038   0.149   0.03\n",
      " 0.32025 0.156   0.006   0.00875 0.02625]\n"
     ]
    }
   ],
   "source": [
    "X, y = trainValSplit(\"train_original/images\", test_size=0.2)\n",
    "assert not np.array_equal(X[\"train\"] , X[\"val\"]) # assert that no image is in both sets"
   ]
  },
  {
   "cell_type": "markdown",
   "metadata": {},
   "source": [
    "Now we proceed to make a custom PyTorch dataset for training and validation. We need to implement `__init__`, `__getitem__` and `__len__` methods. We can't load all images to memory in the `__init__` method due to memory constraints (would require ~8 GB of memory), although this would make `__getitem__` faster. So instead we load the images to memory one by one in the `__getitem__` method."
   ]
  },
  {
   "cell_type": "code",
   "execution_count": 4,
   "metadata": {},
   "outputs": [],
   "source": [
    "from torch.utils.data.dataset import Dataset\n",
    "from torchvision import transforms\n",
    "import matplotlib.pyplot as plt\n",
    "\n",
    "class ImageDataSet(Dataset):\n",
    "    def __init__(self, image_numbers, labels, transformations):\n",
    "        self.images = image_numbers\n",
    "        self.labels = labels\n",
    "        self.image_count = len(self.images)\n",
    "        self.transformations = transformations\n",
    "        \n",
    "    def __getitem__(self, index):                \n",
    "        # we don't actually know the numbers of the images in the data set after the split, so we need to use\n",
    "        # an \"auxiliary\" array containing the image numbers to get an image at [index]\n",
    "        img = plt.imread(f\"train_original/images/im{self.images[index]}.jpg\")\n",
    "        # the dimensions of input need to be the same for all input, so we change greyscale images (128x128)\n",
    "        # to RGB (128x128x3)\n",
    "        if len(img.shape) < 3: # check for greyscale images\n",
    "            img = np.stack((img,)*3, axis=-1) # add 3 dimensions to the last axis\n",
    "        labels = self.labels[index]\n",
    "\n",
    "        img = self.transformations(img) # apply transformations to the image only\n",
    "\n",
    "        return (img, labels)\n",
    "\n",
    "    def __len__(self):\n",
    "        return self.image_count"
   ]
  },
  {
   "cell_type": "markdown",
   "metadata": {},
   "source": [
    "Next we define the transformations used for the images. From `torchvision` documentation we find that the pretrained networks used for transfer learning expect 3-channel RGB images whose height and width should be at least 224 pixels, and they should be normalized using `mean = [0.485, 0.456, 0.406]` and `std = [0.229, 0.224, 0.225]`. For data augmentation we use random horizontal flips, random rotations and random resized crops . The latter crops the image randomly and resizes it to the given value. The images are resized to 224x224, as per recommendation by `torchvision`. Then we proceed to load the data sets and define the dataloaders to feed the data to the network in batches. "
   ]
  },
  {
   "cell_type": "code",
   "execution_count": 12,
   "metadata": {},
   "outputs": [],
   "source": [
    "from torch.utils.data import DataLoader\n",
    "\n",
    "data_transforms = {\n",
    "    \"train\": transforms.Compose([\n",
    "        transforms.ToPILImage(), # torchvision image transformations require PIL images\n",
    "        transforms.RandomResizedCrop(224),\n",
    "        transforms.RandomHorizontalFlip(),\n",
    "        transforms.RandomRotation(25), # -25 to 25 degree rotation\n",
    "        transforms.ToTensor(), # scales the pixel values to the range [0,1]\n",
    "        transforms.Normalize([0.485, 0.456, 0.406], [0.229, 0.224, 0.225])\n",
    "    ]),\n",
    "    \"val\": transforms.Compose([\n",
    "        transforms.ToPILImage(),\n",
    "        transforms.Resize((224,224)),\n",
    "        transforms.ToTensor(),\n",
    "        transforms.Normalize([0.485, 0.456, 0.406], [0.229, 0.224, 0.225])\n",
    "    ]),\n",
    "}\n",
    "\n",
    "image_datasets = {x: ImageDataSet(X[x], y[x], data_transforms[x]) for x in [\"train\", \"val\"]}\n",
    "dataloaders = {x: DataLoader(image_datasets[x], batch_size=32,\n",
    "                                             shuffle=True, num_workers=0)\n",
    "              for x in [\"train\", \"val\"]}\n",
    "\n",
    "dataset_sizes = {x: len(image_datasets[x]) for x in [\"train\", \"val\"]}\n",
    "\n",
    "device = torch.device(\"cuda:0\" if torch.cuda.is_available() else \"cpu\")"
   ]
  },
  {
   "cell_type": "markdown",
   "metadata": {},
   "source": [
    "Next we define a general function to train a model."
   ]
  },
  {
   "cell_type": "code",
   "execution_count": 13,
   "metadata": {},
   "outputs": [],
   "source": [
    "import time\n",
    "import copy\n",
    "import torch.nn as nn\n",
    "import torch.optim as optim\n",
    "from torch.optim import lr_scheduler\n",
    "from torchvision import models\n",
    "from sklearn.metrics import f1_score, accuracy_score, hamming_loss\n",
    "\n",
    "def train_model(model, criterion, optimizer, scheduler, num_epochs=25):\n",
    "    since = time.time()\n",
    "\n",
    "    best_model_wts = copy.deepcopy(model.state_dict()) # copy the model weights\n",
    "    best_f1 = 0.0\n",
    "    \n",
    "    losses = {x:[] for x in [\"train\", \"val\"]}\n",
    "    f1_scores = {x:[] for x in [\"train\", \"val\"]}\n",
    "    acc = {x:[] for x in [\"train\", \"val\"]}\n",
    "    \n",
    "    for epoch in range(1,num_epochs+1):\n",
    "        print(f\"Epoch {epoch}/{num_epochs}\")\n",
    "        print(\"-\" * 10)\n",
    "\n",
    "        # Each epoch has a training and validation phase\n",
    "        for phase in [\"train\", \"val\"]:\n",
    "            if phase == \"train\":\n",
    "                model.train()  # Set model to training mode\n",
    "            else:\n",
    "                model.eval()   # Set model to evaluate mode\n",
    "\n",
    "            running_loss = 0.0\n",
    "            running_corrects = 0\n",
    "            running_f1_score = 0.0\n",
    "            \n",
    "            # Iterate over data.\n",
    "            for inputs, labels in dataloaders[phase]:\n",
    "                inputs = inputs.to(device)\n",
    "                labels = labels.to(device)\n",
    "\n",
    "                # zero the parameter gradients\n",
    "                optimizer.zero_grad()\n",
    "\n",
    "                # forward\n",
    "                # track history if only in train\n",
    "                with torch.set_grad_enabled(phase == \"train\"):\n",
    "                    outputs = model(inputs).double()\n",
    "                    preds = torch.sigmoid(outputs) > 0.5 # apply sigmoid because it is merged with the loss (=criterion)\n",
    "                    loss = criterion(outputs, labels)\n",
    "\n",
    "                    # backward + optimize only if in training phase\n",
    "                    if phase == \"train\":\n",
    "                        loss.backward()\n",
    "                        optimizer.step()\n",
    "                        scheduler.step() # change each batch\n",
    "\n",
    "                # statistics, weighted averages\n",
    "                running_loss += loss.item() * inputs.size(0) \n",
    "                running_corrects += accuracy_score(labels.data.cpu(), preds.data.cpu(), normalize=False)\n",
    "                running_f1_score += f1_score(labels.data.cpu(), preds.data.cpu(), average=\"micro\") * inputs.size(0)\n",
    "            \n",
    "\n",
    "            epoch_loss = running_loss / dataset_sizes[phase]\n",
    "            epoch_acc = running_corrects / dataset_sizes[phase]\n",
    "            epoch_f1 = running_f1_score / dataset_sizes[phase]\n",
    "            \n",
    "            losses[phase].append(epoch_loss)\n",
    "            f1_scores[phase].append(epoch_f1)\n",
    "            acc[phase].append(epoch_acc)\n",
    "            \n",
    "            print(f\"{phase} Loss: {epoch_loss:.4f} Acc: {epoch_acc:.4f} F1: {epoch_f1:.4f}\")\n",
    "\n",
    "            # deep copy the model\n",
    "            if phase == \"val\" and epoch_f1 > best_f1: # use micro-averaged F1-score as the performance metric\n",
    "                best_f1 = epoch_f1\n",
    "                # change the model weights to the one that performs best on validation data\n",
    "                best_model_wts = copy.deepcopy(model.state_dict())\n",
    "\n",
    "        print()\n",
    "\n",
    "    time_elapsed = time.time() - since\n",
    "    print(f\"Training complete in {time_elapsed // 60:.0f}m {time_elapsed % 60:.0f}s\")\n",
    "    print(f\"Best val F1: {best_f1:4f}\")\n",
    "\n",
    "    # load best model weights\n",
    "    model.load_state_dict(best_model_wts)\n",
    "    return model, losses, f1_scores, acc"
   ]
  },
  {
   "cell_type": "markdown",
   "metadata": {},
   "source": [
    "Load a pretrained network. `ResNet34` is used, since it strikes a good balance with classification accuracy and model size. This is important because we want to be able to fit the model _and_ the data in GPU memory. "
   ]
  },
  {
   "cell_type": "code",
   "execution_count": 18,
   "metadata": {},
   "outputs": [],
   "source": [
    "model_ft = models.resnet34(pretrained=True)\n",
    "\n",
    "num_ftrs = model_ft.fc.in_features\n",
    "\n",
    "model_ft.fc = nn.Linear(num_ftrs, 14) # 14 classes so 14 neurons in the output layer\n",
    "\n",
    "\n",
    "model_ft = model_ft.to(device)\n",
    "\n",
    "# use binary cross-entropy as the loss for each neuron and take the average\n",
    "criterion = nn.BCEWithLogitsLoss() # has a sigmoid layer merged with the loss for improved numerical stability\n",
    "\n",
    "# Observe that all parameters are being optimized\n",
    "optimizer_ft = optim.SGD(model_ft.parameters(), lr=0.1, momentum=0.9, weight_decay=1e-4)\n",
    "\n",
    "epochs = 20\n",
    "exp_lr_scheduler = lr_scheduler.OneCycleLR(optimizer_ft, max_lr=0.01, total_steps=None, epochs=epochs, steps_per_epoch=len(dataloaders[\"train\"]), pct_start=0.3, anneal_strategy='cos', cycle_momentum=True, base_momentum=0.85, max_momentum=0.95, div_factor=25.0, final_div_factor=10000.0, last_epoch=-1)"
   ]
  },
  {
   "cell_type": "code",
   "execution_count": 19,
   "metadata": {},
   "outputs": [
    {
     "name": "stdout",
     "output_type": "stream",
     "text": [
      "Epoch 1/20\n",
      "----------\n",
      "train Loss: 0.2263 Acc: 0.4610 F1: 0.1101\n",
      "val Loss: 0.1810 Acc: 0.4760 F1: 0.3831\n",
      "\n",
      "Epoch 2/20\n",
      "----------\n",
      "train Loss: 0.1708 Acc: 0.4931 F1: 0.3734\n",
      "val Loss: 0.1528 Acc: 0.5220 F1: 0.5060\n",
      "\n",
      "Epoch 3/20\n",
      "----------\n",
      "train Loss: 0.1541 Acc: 0.5123 F1: 0.4835\n",
      "val Loss: 0.1381 Acc: 0.5400 F1: 0.5465\n",
      "\n",
      "Epoch 4/20\n",
      "----------\n",
      "train Loss: 0.1438 Acc: 0.5304 F1: 0.5278\n",
      "val Loss: 0.1298 Acc: 0.5490 F1: 0.5730\n",
      "\n",
      "Epoch 5/20\n",
      "----------\n",
      "train Loss: 0.1391 Acc: 0.5366 F1: 0.5413\n",
      "val Loss: 0.1253 Acc: 0.5517 F1: 0.5686\n",
      "\n",
      "Epoch 6/20\n",
      "----------\n",
      "train Loss: 0.1352 Acc: 0.5426 F1: 0.5540\n",
      "val Loss: 0.1226 Acc: 0.5693 F1: 0.5703\n",
      "\n",
      "Epoch 7/20\n",
      "----------\n",
      "train Loss: 0.1344 Acc: 0.5449 F1: 0.5581\n",
      "val Loss: 0.1200 Acc: 0.5690 F1: 0.5836\n",
      "\n",
      "Epoch 8/20\n",
      "----------\n",
      "train Loss: 0.1328 Acc: 0.5549 F1: 0.5680\n",
      "val Loss: 0.1189 Acc: 0.5733 F1: 0.5929\n",
      "\n",
      "Epoch 9/20\n",
      "----------\n",
      "train Loss: 0.1308 Acc: 0.5574 F1: 0.5738\n",
      "val Loss: 0.1189 Acc: 0.5803 F1: 0.5790\n",
      "\n",
      "Epoch 10/20\n",
      "----------\n",
      "train Loss: 0.1299 Acc: 0.5637 F1: 0.5790\n",
      "val Loss: 0.1171 Acc: 0.5837 F1: 0.6002\n",
      "\n",
      "Epoch 11/20\n",
      "----------\n",
      "train Loss: 0.1288 Acc: 0.5654 F1: 0.5836\n",
      "val Loss: 0.1165 Acc: 0.5887 F1: 0.6042\n",
      "\n",
      "Epoch 12/20\n",
      "----------\n",
      "train Loss: 0.1291 Acc: 0.5619 F1: 0.5822\n",
      "val Loss: 0.1158 Acc: 0.5907 F1: 0.5996\n",
      "\n",
      "Epoch 13/20\n",
      "----------\n",
      "train Loss: 0.1276 Acc: 0.5661 F1: 0.5880\n",
      "val Loss: 0.1144 Acc: 0.5905 F1: 0.6199\n",
      "\n",
      "Epoch 14/20\n",
      "----------\n",
      "train Loss: 0.1289 Acc: 0.5639 F1: 0.5871\n",
      "val Loss: 0.1138 Acc: 0.5938 F1: 0.6237\n",
      "\n",
      "Epoch 15/20\n",
      "----------\n",
      "train Loss: 0.1278 Acc: 0.5707 F1: 0.5909\n",
      "val Loss: 0.1139 Acc: 0.5920 F1: 0.6315\n",
      "\n",
      "Epoch 16/20\n",
      "----------\n",
      "train Loss: 0.1267 Acc: 0.5723 F1: 0.5911\n",
      "val Loss: 0.1138 Acc: 0.5972 F1: 0.6239\n",
      "\n",
      "Epoch 17/20\n",
      "----------\n",
      "train Loss: 0.1261 Acc: 0.5723 F1: 0.5941\n",
      "val Loss: 0.1142 Acc: 0.5960 F1: 0.6094\n",
      "\n",
      "Epoch 18/20\n",
      "----------\n",
      "train Loss: 0.1258 Acc: 0.5721 F1: 0.5943\n",
      "val Loss: 0.1140 Acc: 0.5965 F1: 0.6194\n",
      "\n",
      "Epoch 19/20\n",
      "----------\n",
      "train Loss: 0.1260 Acc: 0.5696 F1: 0.5907\n",
      "val Loss: 0.1142 Acc: 0.5938 F1: 0.6245\n",
      "\n",
      "Epoch 20/20\n",
      "----------\n",
      "train Loss: 0.1261 Acc: 0.5710 F1: 0.5941\n",
      "val Loss: 0.1140 Acc: 0.5952 F1: 0.6218\n",
      "\n",
      "Training complete in 34m 41s\n",
      "Best val F1: 0.631523\n"
     ]
    }
   ],
   "source": [
    "model_ft, losses, f1, acc = train_model(model_ft, criterion, optimizer_ft, exp_lr_scheduler,\n",
    "                                                      num_epochs=epochs)"
   ]
  },
  {
   "cell_type": "markdown",
   "metadata": {},
   "source": [
    "Let's make a function to plot performance metrics, in order to e.g. determine if the network has converged."
   ]
  },
  {
   "cell_type": "code",
   "execution_count": 20,
   "metadata": {},
   "outputs": [],
   "source": [
    "%matplotlib inline\n",
    "\n",
    "def plotMetrics(loss, f1, accuracy):\n",
    "    fig, ax = plt.subplots(1, 3, constrained_layout=True, figsize=(17,5))\n",
    "    ylabels = [\"Loss\", \"F1-score\", \"Accuracy\"]\n",
    "    for i, metric in enumerate([loss, f1, accuracy]):\n",
    "        for phase in [\"train\", \"val\"]:\n",
    "            epochs = [i for i in range(1, len(metric[phase])+1)]\n",
    "            ax[i].plot(epochs, metric[phase], label=phase)\n",
    "            ax[i].set_ylabel(ylabels[i])\n",
    "            ax[i].set_xlabel(\"Epoch\")\n",
    "            ax[i].legend()\n",
    "    plt.show()\n",
    "    plt.close()"
   ]
  },
  {
   "cell_type": "code",
   "execution_count": 21,
   "metadata": {},
   "outputs": [
    {
     "data": {
      "image/png": "[encoded data removed]",
      "text/plain": [
       "<Figure size 1224x360 with 3 Axes>"
      ]
     },
     "metadata": {
      "needs_background": "light"
     },
     "output_type": "display_data"
    }
   ],
   "source": [
    "plotMetrics(losses, f1, acc)"
   ]
  },
  {
   "cell_type": "markdown",
   "metadata": {},
   "source": [
    "Make a function to test the model on validation/test set."
   ]
  },
  {
   "cell_type": "code",
   "execution_count": 15,
   "metadata": {},
   "outputs": [],
   "source": [
    "def testNet(model, dataloader, dataset_size, threshold=0.5, return_predictions = False):\n",
    "    running_corrects = 0\n",
    "    running_f1_score = 0.0\n",
    "    predictions = [] # outputs given a probability threshold\n",
    "    \n",
    "    # evaluation mode for validation\n",
    "    model.eval()\n",
    "    with torch.no_grad():\n",
    "        for inputs, labels in dataloader:\n",
    "            inputs = inputs.to(device)\n",
    "            labels = labels.to(device)\n",
    "            \n",
    "            outputs = torch.sigmoid(model(inputs)) \n",
    "            preds = outputs > torch.tensor(threshold).to(device)\n",
    "            \n",
    "            # append the outputs of a batch\n",
    "            if return_predictions == True:\n",
    "                for i in range(preds.size(0)):\n",
    "                    predictions.append(preds[i].to(\"cpu\").numpy())\n",
    "            \n",
    "            running_corrects += accuracy_score(labels.data.cpu(), preds.data.cpu(), normalize=False)\n",
    "            running_f1_score += f1_score(labels.data.cpu(), preds.data.cpu(), average=\"micro\") * inputs.size(0)\n",
    "            \n",
    "    acc = running_corrects / dataset_size\n",
    "    f1 = running_f1_score / dataset_size\n",
    "    predictions = np.array(predictions)\n",
    "    \n",
    "    print(f\"Acc: {acc:.4f} F1: {f1:.4f}\")\n",
    "    \n",
    "    if return_predictions == True:\n",
    "        return predictions\n",
    "    else:\n",
    "        return acc, f1"
   ]
  },
  {
   "cell_type": "markdown",
   "metadata": {},
   "source": [
    "Define a function that gets the output from our network. We want the *output* (i.e. probabilities) from the validation data instead of the *predictions* (i.e. label 0 or 1) in order to tune the threshold for selecting the label for each class. This is because our data is imbalanced, and having a general threshold of 0.5 might not be optimal."
   ]
  },
  {
   "cell_type": "code",
   "execution_count": 24,
   "metadata": {},
   "outputs": [],
   "source": [
    "def getOutput(model, dataloader):\n",
    "    outputs = []\n",
    "    lbls = []\n",
    "    # evaluation mode for validation\n",
    "    model.eval()\n",
    "    with torch.no_grad():\n",
    "        for inputs, labels in dataloader:\n",
    "            inputs = inputs.to(device)\n",
    "            labels = labels.to(device)\n",
    "            # we need to add the sigmoid since now we don't have a loss function with integrated sigmoid\n",
    "            output = torch.sigmoid(model(inputs).double()) \n",
    "            \n",
    "            # append the outputs of a batch\n",
    "            for i in range(output.size(0)):\n",
    "                outputs.append(output[i].to(\"cpu\").numpy())\n",
    "                lbls.append(labels[i].to(\"cpu\").numpy())\n",
    "    return np.array(outputs), np.array(lbls)"
   ]
  },
  {
   "cell_type": "code",
   "execution_count": 88,
   "metadata": {},
   "outputs": [
    {
     "name": "stdout",
     "output_type": "stream",
     "text": [
      "[[9.14731292e-06 4.97127231e-04 1.22884100e-03 ... 3.84097081e-03\n",
      "  4.87350968e-04 4.02134128e-04]\n",
      " [5.88436279e-05 2.76425273e-04 8.42674493e-05 ... 4.07279275e-05\n",
      "  2.31290239e-04 1.09799162e-04]\n",
      " [4.18811361e-05 3.13180546e-05 6.24964153e-05 ... 8.71289774e-05\n",
      "  5.63335768e-05 4.83505128e-04]\n",
      " ...\n",
      " [1.08520494e-03 1.88130236e-04 3.64774308e-02 ... 2.37986048e-04\n",
      "  1.72682830e-04 2.52411884e-04]\n",
      " [1.36701653e-05 1.79895527e-04 1.97703069e-03 ... 1.15591404e-04\n",
      "  8.02730374e-05 2.40447469e-04]\n",
      " [1.29051043e-04 5.31300731e-05 1.99847431e-04 ... 1.38180543e-04\n",
      "  2.24726968e-05 1.68212239e-03]]\n",
      "[[0. 0. 0. ... 0. 0. 0.]\n",
      " [0. 0. 0. ... 0. 0. 0.]\n",
      " [0. 0. 0. ... 0. 0. 0.]\n",
      " ...\n",
      " [0. 0. 0. ... 0. 0. 0.]\n",
      " [0. 0. 0. ... 0. 0. 0.]\n",
      " [0. 0. 0. ... 0. 0. 0.]]\n"
     ]
    }
   ],
   "source": [
    "model_ft = models.resnet34()\n",
    "num_ftrs = model_ft.fc.in_features\n",
    "\n",
    "model_ft.fc = nn.Linear(num_ftrs, 14)\n",
    "model_ft.load_state_dict(torch.load(\"resnet34_model.pkl\"))\n",
    "model_ft = model_ft.to(device)\n",
    "val_output, val_labels = getOutput(model_ft, dataloaders[\"val\"])\n",
    "print(val_output)\n",
    "print(val_labels)"
   ]
  },
  {
   "cell_type": "markdown",
   "metadata": {},
   "source": [
    "Now we choose the probability thresholds for each class by maximizing the F1-score. This can be done by defining a function that returns the *negative* F1-score and *minimizing* this function using some general optimization algorithm."
   ]
  },
  {
   "cell_type": "code",
   "execution_count": 26,
   "metadata": {},
   "outputs": [],
   "source": [
    "def thrToF1(threshold, labels, outputs):\n",
    "    return -f1_score(labels, (outputs > threshold).astype(\"int\"), average=\"micro\")"
   ]
  },
  {
   "cell_type": "code",
   "execution_count": 106,
   "metadata": {},
   "outputs": [
    {
     "name": "stdout",
     "output_type": "stream",
     "text": [
      "Optimization terminated successfully.\n",
      "         Current function value: -0.790200\n",
      "         Iterations: 12\n",
      "         Function evaluations: 26\n",
      "[0.37539062]\n"
     ]
    }
   ],
   "source": [
    "from scipy.optimize import fmin\n",
    "#best_thr = fmin(thrToF1, args=(val_labels, val_output), x0=[0.5 for i in range(14)])\n",
    "best_thr = fmin(thrToF1, args=(val_labels, val_output), x0=0.5)\n",
    "print(best_thr)"
   ]
  },
  {
   "cell_type": "markdown",
   "metadata": {},
   "source": [
    "Then we can test the model with the newly found threshold(s) to see if the performance metrics improve."
   ]
  },
  {
   "cell_type": "code",
   "execution_count": 107,
   "metadata": {},
   "outputs": [
    {
     "name": "stdout",
     "output_type": "stream",
     "text": [
      "Acc: 0.7015 F1: 0.7874\n"
     ]
    },
    {
     "data": {
      "text/plain": [
       "(0.7015, 0.7873945482924489)"
      ]
     },
     "execution_count": 107,
     "metadata": {},
     "output_type": "execute_result"
    }
   ],
   "source": [
    "testNet(model_ft, dataloaders[\"val\"], dataset_sizes[\"val\"], threshold=best_thr)\n"
   ]
  },
  {
   "cell_type": "markdown",
   "metadata": {},
   "source": [
    "Below we define a sort of *minimum viable product* CNN for comparison."
   ]
  },
  {
   "cell_type": "code",
   "execution_count": 9,
   "metadata": {},
   "outputs": [],
   "source": [
    "import torch.nn.functional as F\n",
    "pooling_size = 2\n",
    "class Net(nn.Module):\n",
    "    def __init__(self):\n",
    "        super(Net, self).__init__()\n",
    "        self.conv1 = nn.Conv2d(in_channels=3, out_channels=32, kernel_size=3, padding=1)\n",
    "        self.conv2 = nn.Conv2d(in_channels=32, out_channels=32, kernel_size=3, padding=1)\n",
    "        self.conv3 = nn.Conv2d(in_channels=32, out_channels=64, kernel_size=3, padding=1)\n",
    "        self.conv4 = nn.Conv2d(in_channels=64, out_channels=64, kernel_size=3, padding=1)\n",
    "        self.conv5 = nn.Conv2d(in_channels=64, out_channels=128, kernel_size=3, padding=1)\n",
    "        self.conv6 = nn.Conv2d(in_channels=128, out_channels=128, kernel_size=3, padding=1)\n",
    "        self.conv7 = nn.Conv2d(in_channels=128, out_channels=128, kernel_size=3, padding=1)\n",
    "        self.conv8 = nn.Conv2d(in_channels=128, out_channels=256, kernel_size=3, padding=1)\n",
    "        self.conv9 = nn.Conv2d(in_channels=256, out_channels=256, kernel_size=3, padding=1)\n",
    "        self.conv10 = nn.Conv2d(in_channels=256, out_channels=256, kernel_size=3, padding=1)\n",
    "        self.conv11 = nn.Conv2d(in_channels=256, out_channels=512, kernel_size=3, padding=1)\n",
    "        self.conv12 = nn.Conv2d(in_channels=512, out_channels=512, kernel_size=3, padding=1)\n",
    "        self.conv13 = nn.Conv2d(in_channels=512, out_channels=512, kernel_size=3, padding=1)\n",
    "\n",
    "        self.drop_out = nn.Dropout()\n",
    "        self.fc1 = nn.Linear(512*8*8, 100)\n",
    "        self.fc2 = nn.Linear(100, 100)\n",
    "        #self.fc3 = nn.Sequential(nn.Linear(100, output_size), nn.Sigmoid())\n",
    "        self.fc3 = nn.Linear(100, 14)\n",
    "\n",
    "\n",
    "    def forward(self, x):\n",
    "       \n",
    "        #repeating layers of n*(conv + relu) + max_pool\n",
    "        x = self.conv1(x)\n",
    "        x = F.relu(x)        \n",
    "        x = self.conv2(x)\n",
    "        x = F.relu(x)\n",
    "        \n",
    "        x = F.max_pool2d(x, pooling_size)\n",
    "        \n",
    "        x = self.conv3(x)\n",
    "        x = F.relu(x)        \n",
    "        x = self.conv4(x)\n",
    "        x = F.relu(x)\n",
    "        \n",
    "        x = F.max_pool2d(x, pooling_size)\n",
    "        \n",
    "        x = self.conv5(x)\n",
    "        x = F.relu(x)        \n",
    "        x = self.conv6(x)\n",
    "        x = F.relu(x)\n",
    "        x = self.conv7(x)\n",
    "        x = F.relu(x)\n",
    "\n",
    "        x = F.max_pool2d(x, pooling_size)\n",
    "        \n",
    "        x = self.conv8(x)\n",
    "        x = F.relu(x)        \n",
    "        x = self.conv9(x)\n",
    "        x = F.relu(x)\n",
    "        x = self.conv10(x)\n",
    "        x = F.relu(x)\n",
    "        \n",
    "        x = F.max_pool2d(x, pooling_size)\n",
    "        \n",
    "        x = self.conv11(x)\n",
    "        x = F.relu(x)        \n",
    "        x = self.conv12(x)\n",
    "        x = F.relu(x)\n",
    "        x = self.conv13(x)\n",
    "        x = F.relu(x)\n",
    "        \n",
    "        #no pooling as  it would make dimensions very small (4x4)\n",
    "        #x = F.max_pool2d(x, pooling_size)\n",
    "        \n",
    "        #print(x.size())\n",
    "        \n",
    "        # pass through linear layers and add drop out\n",
    "        x = self.drop_out(x)\n",
    "        x = x.view(x.size(0), 512*8*8)\n",
    "        x = F.relu(self.fc1(x))\n",
    "        x = self.drop_out(x)\n",
    "        x = F.relu(self.fc2(x))\n",
    "        output = self.fc3(x)\n",
    "\n",
    "        return output"
   ]
  },
  {
   "cell_type": "code",
   "execution_count": 10,
   "metadata": {},
   "outputs": [],
   "source": [
    "model = Net().to(device)\n",
    "#criterion = nn.MSELoss()\n",
    "criterion = nn.BCEWithLogitsLoss()\n",
    "# Observe that all parameters are being optimized\n",
    "optimizer_ft = optim.SGD(model.parameters(), lr=0.1, momentum=0.9)\n",
    "#optimizer_ft = optim.Adam(model_ft.parameters(), lr=0.001, betas=(0.9, 0.999), eps=1e-08, weight_decay=0, amsgrad=False)\n",
    "\n",
    "# Decay LR by a factor of 0.1 every 7 epochs\n",
    "exp_lr_scheduler = lr_scheduler.CyclicLR(optimizer_ft, base_lr=0.001, max_lr=0.01)"
   ]
  },
  {
   "cell_type": "code",
   "execution_count": 11,
   "metadata": {},
   "outputs": [
    {
     "name": "stdout",
     "output_type": "stream",
     "text": [
      "11098110\n"
     ]
    }
   ],
   "source": [
    "print(sum(p.numel() for p in model.parameters() if p.requires_grad))"
   ]
  },
  {
   "cell_type": "code",
   "execution_count": 14,
   "metadata": {},
   "outputs": [
    {
     "name": "stdout",
     "output_type": "stream",
     "text": [
      "Epoch 1/20\n",
      "----------\n",
      "train Loss: 0.2595 Acc: 0.4904 F1: 0.0002\n",
      "val Loss: 0.2110 Acc: 0.4923 F1: 0.0000\n",
      "\n",
      "Epoch 2/20\n",
      "----------\n",
      "train Loss: 0.2152 Acc: 0.4909 F1: 0.0001\n",
      "val Loss: 0.2109 Acc: 0.4923 F1: 0.0000\n",
      "\n",
      "Epoch 3/20\n",
      "----------\n",
      "train Loss: 0.2146 Acc: 0.4909 F1: 0.0000\n",
      "val Loss: 0.2112 Acc: 0.4923 F1: 0.0000\n",
      "\n",
      "Epoch 4/20\n",
      "----------\n",
      "train Loss: 0.2142 Acc: 0.4909 F1: 0.0000\n",
      "val Loss: 0.2109 Acc: 0.4923 F1: 0.0000\n",
      "\n",
      "Epoch 5/20\n",
      "----------\n",
      "train Loss: 0.2140 Acc: 0.4909 F1: 0.0000\n",
      "val Loss: 0.2111 Acc: 0.4923 F1: 0.0000\n",
      "\n",
      "Epoch 6/20\n",
      "----------\n",
      "train Loss: 0.2138 Acc: 0.4909 F1: 0.0000\n",
      "val Loss: 0.2113 Acc: 0.4923 F1: 0.0000\n",
      "\n",
      "Epoch 7/20\n",
      "----------\n",
      "train Loss: 0.2136 Acc: 0.4909 F1: 0.0000\n",
      "val Loss: 0.2112 Acc: 0.4923 F1: 0.0000\n",
      "\n",
      "Epoch 8/20\n",
      "----------\n",
      "train Loss: 0.2133 Acc: 0.4909 F1: 0.0000\n",
      "val Loss: 0.2109 Acc: 0.4923 F1: 0.0000\n",
      "\n",
      "Epoch 9/20\n",
      "----------\n",
      "train Loss: 0.2133 Acc: 0.4909 F1: 0.0000\n",
      "val Loss: 0.2109 Acc: 0.4923 F1: 0.0000\n",
      "\n",
      "Epoch 10/20\n",
      "----------\n",
      "train Loss: 0.2131 Acc: 0.4909 F1: 0.0000\n",
      "val Loss: 0.2109 Acc: 0.4923 F1: 0.0000\n",
      "\n",
      "Epoch 11/20\n",
      "----------\n",
      "train Loss: 0.2130 Acc: 0.4909 F1: 0.0000\n",
      "val Loss: 0.2115 Acc: 0.4923 F1: 0.0000\n",
      "\n",
      "Epoch 12/20\n",
      "----------\n",
      "train Loss: 0.2131 Acc: 0.4909 F1: 0.0000\n",
      "val Loss: 0.2109 Acc: 0.4923 F1: 0.0000\n",
      "\n",
      "Epoch 13/20\n",
      "----------\n",
      "train Loss: 0.2131 Acc: 0.4909 F1: 0.0000\n",
      "val Loss: 0.2111 Acc: 0.4923 F1: 0.0000\n",
      "\n",
      "Epoch 14/20\n",
      "----------\n",
      "train Loss: 0.2127 Acc: 0.4909 F1: 0.0000\n",
      "val Loss: 0.2112 Acc: 0.4923 F1: 0.0000\n",
      "\n",
      "Epoch 15/20\n",
      "----------\n",
      "train Loss: 0.2130 Acc: 0.4909 F1: 0.0000\n",
      "val Loss: 0.2109 Acc: 0.4923 F1: 0.0000\n",
      "\n",
      "Epoch 16/20\n",
      "----------\n",
      "train Loss: 0.2131 Acc: 0.4909 F1: 0.0000\n",
      "val Loss: 0.2111 Acc: 0.4923 F1: 0.0000\n",
      "\n",
      "Epoch 17/20\n",
      "----------\n",
      "train Loss: 0.2126 Acc: 0.4909 F1: 0.0000\n",
      "val Loss: 0.2110 Acc: 0.4923 F1: 0.0000\n",
      "\n",
      "Epoch 18/20\n",
      "----------\n",
      "train Loss: 0.2126 Acc: 0.4909 F1: 0.0000\n",
      "val Loss: 0.2116 Acc: 0.4923 F1: 0.0000\n",
      "\n",
      "Epoch 19/20\n",
      "----------\n",
      "train Loss: 0.2127 Acc: 0.4909 F1: 0.0000\n",
      "val Loss: 0.2110 Acc: 0.4923 F1: 0.0000\n",
      "\n",
      "Epoch 20/20\n",
      "----------\n",
      "train Loss: 0.2123 Acc: 0.4909 F1: 0.0000\n",
      "val Loss: 0.2117 Acc: 0.4923 F1: 0.0000\n",
      "\n",
      "Training complete in 27m 49s\n",
      "Best val F1: 0.000000\n"
     ]
    }
   ],
   "source": [
    "model, losses, f1, acc = train_model(model, criterion, optimizer_ft, exp_lr_scheduler,\n",
    "                                                      num_epochs=20)"
   ]
  },
  {
   "cell_type": "code",
   "execution_count": 17,
   "metadata": {},
   "outputs": [
    {
     "data": {
      "image/png": "[encoded data removed]",
      "text/plain": [
       "<Figure size 1224x360 with 3 Axes>"
      ]
     },
     "metadata": {
      "needs_background": "light"
     },
     "output_type": "display_data"
    }
   ],
   "source": [
    "plotMetrics(losses, f1, acc)"
   ]
  },
  {
   "cell_type": "markdown",
   "metadata": {},
   "source": [
    "## Save your model\n",
    "\n",
    "It might be useful to save your model if you want to continue your work later, or use it for inference later."
   ]
  },
  {
   "cell_type": "code",
   "execution_count": 28,
   "metadata": {},
   "outputs": [],
   "source": [
    "torch.save(model_ft.state_dict(), 'resnet34_model.pkl')"
   ]
  },
  {
   "cell_type": "markdown",
   "metadata": {},
   "source": [
    "The model file should now be visible in the \"Home\" screen of the jupyter notebooks interface.  There you should be able to select it and press \"download\".  [See more here on how to load the model back](https://github.com/pytorch/pytorch/blob/761d6799beb3afa03657a71776412a2171ee7533/docs/source/notes/serialization.rst) if you want to continue training later."
   ]
  },
  {
   "cell_type": "markdown",
   "metadata": {},
   "source": [
    "## Download test set\n",
    "\n",
    "The testset will be made available during the last week before the deadline and can be downloaded in the same way as the training set."
   ]
  },
  {
   "cell_type": "code",
   "execution_count": 38,
   "metadata": {},
   "outputs": [],
   "source": [
    "# extract the test images\n",
    "root_dir = os.getcwd()\n",
    "if root_dir not in sys.path:\n",
    "    sys.path.append(root_dir)\n",
    "    \n",
    "test_path = 'test'\n",
    "\n",
    "data_zip_name = 'image-test-corpus-I139ArJ.zip'\n",
    "\n",
    "with zipfile.ZipFile(data_zip_name) as zip_f:\n",
    "    zip_f.extractall(test_path)"
   ]
  },
  {
   "cell_type": "markdown",
   "metadata": {},
   "source": [
    "## Predict for test set\n",
    "\n",
    "You should return your predictions for the test set in a plain text file.  The text file contains one row for each test set image.  Each row contains a binary prediction for each label (separated by a single space), 1 if it's present in the image, and 0 if not. The order of the labels is as follows (alphabetic order of the label names):\n",
    "\n",
    "    baby bird car clouds dog female flower male night people portrait river sea tree\n",
    "\n",
    "An example row could like like this if your system predicts the presense of a bird and clouds:\n",
    "\n",
    "    0 1 0 1 0 0 0 0 0 0 0 0 0 0\n",
    "    \n",
    "The order of the rows should be according to the numeric order of the image numbers.  In the test set, this means that the first row refers to image `im20001.jpg`, the second to `im20002.jpg`, and so on."
   ]
  },
  {
   "cell_type": "markdown",
   "metadata": {},
   "source": [
    "If you have the prediction output matrix prepared in `y` you can use the following function to save it to a text file."
   ]
  },
  {
   "cell_type": "code",
   "execution_count": null,
   "metadata": {},
   "outputs": [],
   "source": [
    "np.savetxt('results.txt', y, fmt='%d')"
   ]
  },
  {
   "cell_type": "markdown",
   "metadata": {},
   "source": [
    "First we need to define a custom data set for the test data. We need to make sure that the order of predictions correspond to the order of images, and this time we return only an image, not the labels. NB! The code assumes that the test images are located in the current directory in `test/images`."
   ]
  },
  {
   "cell_type": "code",
   "execution_count": 98,
   "metadata": {},
   "outputs": [],
   "source": [
    "class TestDataSet(Dataset):\n",
    "    def __init__(self, image_numbers, transformations):\n",
    "        self.images = image_numbers\n",
    "        self.image_count = len(self.images)\n",
    "        self.transformations = transformations\n",
    "        \n",
    "    def __getitem__(self, index):        \n",
    "        img = plt.imread(f\"test/images/im{self.images[index]}.jpg\")\n",
    "        # the dimensions of input need to be the same for all input, so we change greyscale images (128x128)\n",
    "        # to RGB (128x128x3)\n",
    "        if len(img.shape) < 3: # check for greyscale images\n",
    "            img = np.stack((img,)*3, axis=-1) # add 3 dimensions to the last axis\n",
    "        \n",
    "        img = self.transformations(img) # apply transformations to the image only\n",
    "\n",
    "        return img\n",
    "\n",
    "    def __len__(self):\n",
    "        return self.image_count"
   ]
  },
  {
   "cell_type": "code",
   "execution_count": 99,
   "metadata": {},
   "outputs": [],
   "source": [
    "X = sorted([int(filename[2:-4]) for filename in os.listdir(\"test/images/\")]) # read the image numbers as int, sorted\n",
    "# no data augmentation, only resizing and normalization\n",
    "test_transforms=  transforms.Compose([\n",
    "        transforms.ToPILImage(),\n",
    "        transforms.Resize((224,224)), \n",
    "        transforms.ToTensor(),\n",
    "        transforms.Normalize([0.485, 0.456, 0.406], [0.229, 0.224, 0.225])\n",
    "    ])\n",
    "test_data = TestDataSet(X, test_transforms)\n",
    "testloader = DataLoader(test_data, batch_size=32, shuffle=False, num_workers=0)\n"
   ]
  },
  {
   "cell_type": "markdown",
   "metadata": {},
   "source": [
    "Define a function to get the predictions from the model."
   ]
  },
  {
   "cell_type": "code",
   "execution_count": 66,
   "metadata": {},
   "outputs": [],
   "source": [
    "def getPredictions(model, dataloader, threshold):\n",
    "    predictions = []\n",
    "    # evaluation mode for testing\n",
    "    model.eval()\n",
    "    with torch.no_grad():\n",
    "        for inputs in dataloader:\n",
    "            inputs = inputs.to(device)\n",
    "            # we need to add the sigmoid since now we don't have a loss function with integrated sigmoid\n",
    "            outputs = torch.sigmoid(model(inputs).double()) \n",
    "            preds = outputs > torch.tensor(threshold).to(device)\n",
    "            # append the predictions of a batch\n",
    "            for i in range(outputs.size(0)):\n",
    "                predictions.append(preds[i].to(\"cpu\").numpy())\n",
    "\n",
    "    return np.array(predictions).astype(\"int\")"
   ]
  },
  {
   "cell_type": "code",
   "execution_count": 108,
   "metadata": {},
   "outputs": [],
   "source": [
    "y = getPredictions(model_ft, testloader, best_thr)"
   ]
  },
  {
   "cell_type": "code",
   "execution_count": 109,
   "metadata": {},
   "outputs": [],
   "source": [
    "np.savetxt('results.txt', y, fmt='%d')"
   ]
  }
 ],
 "metadata": {
  "kernelspec": {
   "display_name": "Python 3",
   "language": "python",
   "name": "python3"
  },
  "language_info": {
   "codemirror_mode": {
    "name": "ipython",
    "version": 3
   },
   "file_extension": ".py",
   "mimetype": "text/x-python",
   "name": "python",
   "nbconvert_exporter": "python",
   "pygments_lexer": "ipython3",
   "version": "3.7.6"
  },
  "latex_envs": {
   "LaTeX_envs_menu_present": true,
   "autoclose": false,
   "autocomplete": true,
   "bibliofile": "biblio.bib",
   "cite_by": "apalike",
   "current_citInitial": 1,
   "eqLabelWithNumbers": false,
   "eqNumInitial": 1,
   "hotkeys": {
    "equation": "Ctrl-E",
    "itemize": "Ctrl-I"
   },
   "labels_anchors": false,
   "latex_user_defs": false,
   "report_style_numbering": false,
   "user_envs_cfg": false
  }
 },
 "nbformat": 4,
 "nbformat_minor": 2
}
